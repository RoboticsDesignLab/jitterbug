{
 "cells": [
  {
   "cell_type": "markdown",
   "metadata": {},
   "source": [
    "\n",
    "Generate a figure showing motor velocity for different policies.\n",
    "\n",
    "Nb: To generate this figure, you require the raw data files (which are quite large) in the benchmarking folder.\n"
   ]
  },
  {
   "cell_type": "code",
   "execution_count": null,
   "metadata": {},
   "outputs": [],
   "source": [
    "\n",
    "import os\n",
    "import numpy as np\n",
    "import seaborn as sns\n",
    "import scipy.io as sio\n",
    "from matplotlib import pyplot as plt\n",
    "\n",
    "# Retrieve data\n",
    "# mat_random = sio.loadmat(os.path.join('benchmarks', 'observations3_random_normalized.mat'))\n",
    "# data_random = mat_random['observations']\n",
    "\n",
    "mat_learning = sio.loadmat(os.path.join('benchmarks', 'observations4_move_in_direction_normalized.mat'))\n",
    "data_learning = mat_learning['observations']\n",
    "\n",
    "mat_failed = sio.loadmat(os.path.join('benchmarks', 'observations6_move_in_direction_failed_normalized.mat'))\n",
    "data_failed = mat_failed['observations']\n",
    "\n",
    "# Keep the same number of points\n",
    "#N_random = len(data_random)\n",
    "N_learning = len(data_learning)\n",
    "N_failed = len(data_failed)\n",
    "\n",
    "N_min = min([\n",
    "    #N_random,\n",
    "    N_learning,\n",
    "    N_failed\n",
    "])\n",
    "#data_random = data_random[:N_min]\n",
    "data_learning = data_learning[:N_min]\n",
    "data_failed = data_failed[:N_min]\n"
   ]
  },
  {
   "cell_type": "code",
   "execution_count": null,
   "metadata": {},
   "outputs": [],
   "source": [
    "\n",
    "sns.set()\n"
   ]
  },
  {
   "cell_type": "code",
   "execution_count": null,
   "metadata": {},
   "outputs": [],
   "source": [
    "\n",
    "plt.figure(\n",
    "    figsize=(9, 6),\n",
    "    dpi=300\n",
    ")\n",
    "\n",
    "kwargs = dict(\n",
    "    bins=np.linspace(-1.0, 1.0, 70),\n",
    "    kde=False,\n",
    "    hist=True\n",
    ")\n",
    "\n",
    "# sns.distplot(data_random.transpose()[14],\n",
    "#     label=\"Random Policy\",\n",
    "#     **kwargs,\n",
    "#     color='b',\n",
    "# )\n",
    "\n",
    "sns.distplot(\n",
    "    data_learning.transpose()[14],\n",
    "    label=\"DDPG — Successful\",\n",
    "    **kwargs,\n",
    "    color='C2',\n",
    ")\n",
    "\n",
    "sns.distplot(\n",
    "    data_failed.transpose()[14],\n",
    "    label=\"DDPG — Failed to learn the task\",\n",
    "    **kwargs,\n",
    "    color='C1',\n",
    ")\n",
    "\n",
    "plt.xlabel(\"Motor Velocity\")\n",
    "plt.ylabel(\"Number of Observations\")\n",
    "plt.legend()\n",
    "plt.tight_layout()\n",
    "plt.savefig(\n",
    "    os.path.join(\"manuscript\", \"figures\", \"fig-motor-hist.pdf\"),\n",
    "    dpi=300,\n",
    "    bbox_inches='tight',\n",
    "    pad_inches=0,\n",
    ")\n",
    "plt.show()\n",
    "plt.close()\n"
   ]
  },
  {
   "cell_type": "markdown",
   "metadata": {},
   "source": [
    "\n",
    "The green data was collected by recording the motor velocity of a DDPG Jitterbug agent successfully learning to perform the move_in_direction task.\n",
    "\n",
    "The orange data was collected by recording the motor velocity of a DDPG Jitterbug agent failing to learn to perform the move_in_direction task.\n"
   ]
  }
 ],
 "metadata": {
  "kernelspec": {
   "display_name": "Python 3",
   "language": "python",
   "name": "python3"
  },
  "language_info": {
   "codemirror_mode": {
    "name": "ipython",
    "version": 3
   },
   "file_extension": ".py",
   "mimetype": "text/x-python",
   "name": "python",
   "nbconvert_exporter": "python",
   "pygments_lexer": "ipython3",
   "version": "3.6.9"
  }
 },
 "nbformat": 4,
 "nbformat_minor": 2
}
